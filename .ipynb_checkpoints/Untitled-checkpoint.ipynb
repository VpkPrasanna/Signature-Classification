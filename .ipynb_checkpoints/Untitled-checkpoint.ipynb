{
 "cells": [
  {
   "cell_type": "code",
   "execution_count": 1,
   "metadata": {},
   "outputs": [
    {
     "name": "stderr",
     "output_type": "stream",
     "text": [
      "Using TensorFlow backend.\n",
      "/home/pcuser/.local/lib/python3.6/site-packages/tensorflow/python/framework/dtypes.py:516: FutureWarning: Passing (type, 1) or '1type' as a synonym of type is deprecated; in a future version of numpy, it will be understood as (type, (1,)) / '(1,)type'.\n",
      "  _np_qint8 = np.dtype([(\"qint8\", np.int8, 1)])\n",
      "/home/pcuser/.local/lib/python3.6/site-packages/tensorflow/python/framework/dtypes.py:517: FutureWarning: Passing (type, 1) or '1type' as a synonym of type is deprecated; in a future version of numpy, it will be understood as (type, (1,)) / '(1,)type'.\n",
      "  _np_quint8 = np.dtype([(\"quint8\", np.uint8, 1)])\n",
      "/home/pcuser/.local/lib/python3.6/site-packages/tensorflow/python/framework/dtypes.py:518: FutureWarning: Passing (type, 1) or '1type' as a synonym of type is deprecated; in a future version of numpy, it will be understood as (type, (1,)) / '(1,)type'.\n",
      "  _np_qint16 = np.dtype([(\"qint16\", np.int16, 1)])\n",
      "/home/pcuser/.local/lib/python3.6/site-packages/tensorflow/python/framework/dtypes.py:519: FutureWarning: Passing (type, 1) or '1type' as a synonym of type is deprecated; in a future version of numpy, it will be understood as (type, (1,)) / '(1,)type'.\n",
      "  _np_quint16 = np.dtype([(\"quint16\", np.uint16, 1)])\n",
      "/home/pcuser/.local/lib/python3.6/site-packages/tensorflow/python/framework/dtypes.py:520: FutureWarning: Passing (type, 1) or '1type' as a synonym of type is deprecated; in a future version of numpy, it will be understood as (type, (1,)) / '(1,)type'.\n",
      "  _np_qint32 = np.dtype([(\"qint32\", np.int32, 1)])\n",
      "/home/pcuser/.local/lib/python3.6/site-packages/tensorflow/python/framework/dtypes.py:525: FutureWarning: Passing (type, 1) or '1type' as a synonym of type is deprecated; in a future version of numpy, it will be understood as (type, (1,)) / '(1,)type'.\n",
      "  np_resource = np.dtype([(\"resource\", np.ubyte, 1)])\n",
      "/home/pcuser/.local/lib/python3.6/site-packages/tensorboard/compat/tensorflow_stub/dtypes.py:541: FutureWarning: Passing (type, 1) or '1type' as a synonym of type is deprecated; in a future version of numpy, it will be understood as (type, (1,)) / '(1,)type'.\n",
      "  _np_qint8 = np.dtype([(\"qint8\", np.int8, 1)])\n",
      "/home/pcuser/.local/lib/python3.6/site-packages/tensorboard/compat/tensorflow_stub/dtypes.py:542: FutureWarning: Passing (type, 1) or '1type' as a synonym of type is deprecated; in a future version of numpy, it will be understood as (type, (1,)) / '(1,)type'.\n",
      "  _np_quint8 = np.dtype([(\"quint8\", np.uint8, 1)])\n",
      "/home/pcuser/.local/lib/python3.6/site-packages/tensorboard/compat/tensorflow_stub/dtypes.py:543: FutureWarning: Passing (type, 1) or '1type' as a synonym of type is deprecated; in a future version of numpy, it will be understood as (type, (1,)) / '(1,)type'.\n",
      "  _np_qint16 = np.dtype([(\"qint16\", np.int16, 1)])\n",
      "/home/pcuser/.local/lib/python3.6/site-packages/tensorboard/compat/tensorflow_stub/dtypes.py:544: FutureWarning: Passing (type, 1) or '1type' as a synonym of type is deprecated; in a future version of numpy, it will be understood as (type, (1,)) / '(1,)type'.\n",
      "  _np_quint16 = np.dtype([(\"quint16\", np.uint16, 1)])\n",
      "/home/pcuser/.local/lib/python3.6/site-packages/tensorboard/compat/tensorflow_stub/dtypes.py:545: FutureWarning: Passing (type, 1) or '1type' as a synonym of type is deprecated; in a future version of numpy, it will be understood as (type, (1,)) / '(1,)type'.\n",
      "  _np_qint32 = np.dtype([(\"qint32\", np.int32, 1)])\n",
      "/home/pcuser/.local/lib/python3.6/site-packages/tensorboard/compat/tensorflow_stub/dtypes.py:550: FutureWarning: Passing (type, 1) or '1type' as a synonym of type is deprecated; in a future version of numpy, it will be understood as (type, (1,)) / '(1,)type'.\n",
      "  np_resource = np.dtype([(\"resource\", np.ubyte, 1)])\n"
     ]
    }
   ],
   "source": [
    "from keras.preprocessing.image import ImageDataGenerator \n",
    "from keras.models import Sequential,load_model\n",
    "from keras.layers import Conv2D, MaxPooling2D \n",
    "from keras.layers import Activation, Dropout, Flatten, Dense \n",
    "from keras import backend as K "
   ]
  },
  {
   "cell_type": "code",
   "execution_count": 25,
   "metadata": {},
   "outputs": [
    {
     "name": "stdout",
     "output_type": "stream",
     "text": [
      "Checking.ipynb  saved_model.hdf5  \u001b[0m\u001b[01;34mtrain\u001b[0m/          weight_model_weights.hdf5\r\n",
      "\u001b[01;34mReadme\u001b[0m/         \u001b[01;34mtest\u001b[0m/             Untitled.ipynb\r\n"
     ]
    }
   ],
   "source": [
    "ls"
   ]
  },
  {
   "cell_type": "code",
   "execution_count": 3,
   "metadata": {},
   "outputs": [],
   "source": [
    "\n",
    "train_data_dir = '/home/pcuser/Downloads/Task/db task/sample_Signature/train'\n",
    "validation_data_dir = '/home/pcuser/Downloads/Task/db task/sample_Signature/test'\n",
    "nb_train_samples =400 \n",
    "nb_validation_samples = 100\n",
    "epochs = 50\n",
    "batch_size = 16\n"
   ]
  },
  {
   "cell_type": "code",
   "execution_count": 4,
   "metadata": {},
   "outputs": [
    {
     "data": {
      "text/plain": [
       "'/home/pcuser/Downloads/Task/db task/sample_Signature/train'"
      ]
     },
     "execution_count": 4,
     "metadata": {},
     "output_type": "execute_result"
    }
   ],
   "source": [
    "train_data_dir"
   ]
  },
  {
   "cell_type": "code",
   "execution_count": 5,
   "metadata": {},
   "outputs": [],
   "source": [
    "img_width, img_height = 224, 224\n",
    "if K.image_data_format() == 'channels_first': \n",
    "    input_shape = (3, img_width, img_height) \n",
    "else: \n",
    "    input_shape = (img_width, img_height, 3) \n"
   ]
  },
  {
   "cell_type": "code",
   "execution_count": 6,
   "metadata": {
    "scrolled": false
   },
   "outputs": [
    {
     "name": "stdout",
     "output_type": "stream",
     "text": [
      "WARNING:tensorflow:From /home/pcuser/.local/lib/python3.6/site-packages/keras/backend/tensorflow_backend.py:4070: The name tf.nn.max_pool is deprecated. Please use tf.nn.max_pool2d instead.\n",
      "\n"
     ]
    }
   ],
   "source": [
    "model = Sequential() \n",
    "model.add(Conv2D(32, (2, 2), input_shape = input_shape)) \n",
    "model.add(Activation('relu')) \n",
    "model.add(MaxPooling2D(pool_size =(2, 2))) \n",
    "  \n",
    "model.add(Conv2D(32, (2, 2))) \n",
    "model.add(Activation('relu')) \n",
    "model.add(MaxPooling2D(pool_size =(2, 2))) \n",
    "  \n",
    "model.add(Conv2D(64, (2, 2))) \n",
    "model.add(Activation('relu')) \n",
    "model.add(MaxPooling2D(pool_size =(2, 2))) \n",
    "  \n",
    "model.add(Flatten()) \n",
    "model.add(Dense(64)) \n",
    "model.add(Activation('relu')) \n",
    "model.add(Dropout(0.5)) \n",
    "model.add(Dense(1)) \n",
    "model.add(Activation('sigmoid')) "
   ]
  },
  {
   "cell_type": "code",
   "execution_count": 7,
   "metadata": {},
   "outputs": [
    {
     "name": "stdout",
     "output_type": "stream",
     "text": [
      "WARNING:tensorflow:From /home/pcuser/.local/lib/python3.6/site-packages/tensorflow/python/ops/nn_impl.py:180: add_dispatch_support.<locals>.wrapper (from tensorflow.python.ops.array_ops) is deprecated and will be removed in a future version.\n",
      "Instructions for updating:\n",
      "Use tf.where in 2.0, which has the same broadcast rule as np.where\n"
     ]
    }
   ],
   "source": [
    "model.compile(loss ='binary_crossentropy', \n",
    "                     optimizer ='rmsprop', \n",
    "                   metrics =['accuracy']) "
   ]
  },
  {
   "cell_type": "code",
   "execution_count": 8,
   "metadata": {},
   "outputs": [],
   "source": [
    "train_datagen = ImageDataGenerator( \n",
    "                rescale = 1. / 255, \n",
    "                 shear_range = 0.2, \n",
    "                  zoom_range = 0.2, \n",
    "            horizontal_flip = True) "
   ]
  },
  {
   "cell_type": "code",
   "execution_count": 9,
   "metadata": {},
   "outputs": [],
   "source": [
    "test_datagen = ImageDataGenerator(rescale = 1. / 255) "
   ]
  },
  {
   "cell_type": "code",
   "execution_count": 10,
   "metadata": {},
   "outputs": [
    {
     "name": "stdout",
     "output_type": "stream",
     "text": [
      "Found 240 images belonging to 2 classes.\n"
     ]
    }
   ],
   "source": [
    "train_generator = train_datagen.flow_from_directory(train_data_dir, \n",
    "                              target_size =(img_width, img_height), \n",
    "                     batch_size = batch_size, class_mode ='binary') "
   ]
  },
  {
   "cell_type": "code",
   "execution_count": 11,
   "metadata": {},
   "outputs": [
    {
     "name": "stdout",
     "output_type": "stream",
     "text": [
      "Found 60 images belonging to 2 classes.\n"
     ]
    }
   ],
   "source": [
    "validation_generator = test_datagen.flow_from_directory( \n",
    "                                    validation_data_dir, \n",
    "                   target_size =(img_width, img_height), \n",
    "          batch_size = batch_size, class_mode ='binary') "
   ]
  },
  {
   "cell_type": "code",
   "execution_count": 12,
   "metadata": {},
   "outputs": [
    {
     "name": "stdout",
     "output_type": "stream",
     "text": [
      "WARNING:tensorflow:From /home/pcuser/.local/lib/python3.6/site-packages/keras/backend/tensorflow_backend.py:422: The name tf.global_variables is deprecated. Please use tf.compat.v1.global_variables instead.\n",
      "\n",
      "Epoch 1/50\n",
      "25/25 [==============================] - 23s 906ms/step - loss: 1.3578 - accuracy: 0.5050 - val_loss: 0.6862 - val_accuracy: 0.2609\n",
      "Epoch 2/50\n",
      "25/25 [==============================] - 19s 769ms/step - loss: 0.7019 - accuracy: 0.5500 - val_loss: 0.7346 - val_accuracy: 0.2500\n",
      "Epoch 3/50\n",
      "25/25 [==============================] - 16s 633ms/step - loss: 0.6954 - accuracy: 0.5675 - val_loss: 0.7722 - val_accuracy: 0.4891\n",
      "Epoch 4/50\n",
      "25/25 [==============================] - 16s 627ms/step - loss: 0.6718 - accuracy: 0.5750 - val_loss: 0.8169 - val_accuracy: 0.0227\n",
      "Epoch 5/50\n",
      "25/25 [==============================] - 19s 741ms/step - loss: 0.6545 - accuracy: 0.6250 - val_loss: 1.3060 - val_accuracy: 0.4130\n",
      "Epoch 6/50\n",
      "25/25 [==============================] - 24s 964ms/step - loss: 0.6416 - accuracy: 0.6400 - val_loss: 0.9019 - val_accuracy: 0.1136\n",
      "Epoch 7/50\n",
      "25/25 [==============================] - 29s 1s/step - loss: 0.6232 - accuracy: 0.6800 - val_loss: 0.7743 - val_accuracy: 0.3043\n",
      "Epoch 8/50\n",
      "25/25 [==============================] - 20s 780ms/step - loss: 0.6034 - accuracy: 0.7100 - val_loss: 0.9621 - val_accuracy: 0.1023\n",
      "Epoch 9/50\n",
      "25/25 [==============================] - 18s 726ms/step - loss: 0.5627 - accuracy: 0.7000 - val_loss: 3.2738 - val_accuracy: 0.4674\n",
      "Epoch 10/50\n",
      "25/25 [==============================] - 17s 670ms/step - loss: 0.6212 - accuracy: 0.7200 - val_loss: 3.0081 - val_accuracy: 0.1136\n",
      "Epoch 11/50\n",
      "25/25 [==============================] - 17s 698ms/step - loss: 0.5205 - accuracy: 0.7975 - val_loss: 1.9736 - val_accuracy: 0.1196\n",
      "Epoch 12/50\n",
      "25/25 [==============================] - 16s 659ms/step - loss: 0.4753 - accuracy: 0.7775 - val_loss: 1.7132 - val_accuracy: 0.1591\n",
      "Epoch 13/50\n",
      "25/25 [==============================] - 18s 700ms/step - loss: 0.4864 - accuracy: 0.7725 - val_loss: 2.2600 - val_accuracy: 0.2500\n",
      "Epoch 14/50\n",
      "25/25 [==============================] - 16s 648ms/step - loss: 0.4422 - accuracy: 0.8075 - val_loss: 4.1891 - val_accuracy: 0.1023\n",
      "Epoch 15/50\n",
      "25/25 [==============================] - 16s 659ms/step - loss: 0.4426 - accuracy: 0.8125 - val_loss: 1.7895 - val_accuracy: 0.1630\n",
      "Epoch 16/50\n",
      "25/25 [==============================] - 17s 696ms/step - loss: 0.3980 - accuracy: 0.8275 - val_loss: 2.0443 - val_accuracy: 0.1250\n",
      "Epoch 17/50\n",
      "25/25 [==============================] - 17s 666ms/step - loss: 0.3885 - accuracy: 0.8325 - val_loss: 2.3232 - val_accuracy: 0.2283\n",
      "Epoch 18/50\n",
      "25/25 [==============================] - 17s 666ms/step - loss: 0.3563 - accuracy: 0.8550 - val_loss: 2.7992 - val_accuracy: 0.3295\n",
      "Epoch 19/50\n",
      "25/25 [==============================] - 16s 645ms/step - loss: 0.3804 - accuracy: 0.8500 - val_loss: 2.7599 - val_accuracy: 0.1630\n",
      "Epoch 20/50\n",
      "25/25 [==============================] - 16s 652ms/step - loss: 0.3137 - accuracy: 0.8875 - val_loss: 1.9587 - val_accuracy: 0.2045\n",
      "Epoch 21/50\n",
      "25/25 [==============================] - 16s 658ms/step - loss: 0.3225 - accuracy: 0.8675 - val_loss: 2.2937 - val_accuracy: 0.1304\n",
      "Epoch 22/50\n",
      "25/25 [==============================] - 16s 636ms/step - loss: 0.3405 - accuracy: 0.8475 - val_loss: 2.3958 - val_accuracy: 0.1023\n",
      "Epoch 23/50\n",
      "25/25 [==============================] - 16s 644ms/step - loss: 0.2526 - accuracy: 0.8800 - val_loss: 4.0039 - val_accuracy: 0.1087\n",
      "Epoch 24/50\n",
      "25/25 [==============================] - 17s 661ms/step - loss: 0.2850 - accuracy: 0.9075 - val_loss: 2.9885 - val_accuracy: 0.0795\n",
      "Epoch 25/50\n",
      "25/25 [==============================] - 16s 644ms/step - loss: 0.3398 - accuracy: 0.8875 - val_loss: 5.1667 - val_accuracy: 0.0978\n",
      "Epoch 26/50\n",
      "25/25 [==============================] - 16s 651ms/step - loss: 0.2766 - accuracy: 0.8975 - val_loss: 1.2587 - val_accuracy: 0.1364\n",
      "Epoch 27/50\n",
      "25/25 [==============================] - 16s 651ms/step - loss: 0.2471 - accuracy: 0.8950 - val_loss: 2.4892 - val_accuracy: 0.2935\n",
      "Epoch 28/50\n",
      "25/25 [==============================] - 16s 656ms/step - loss: 0.2427 - accuracy: 0.9125 - val_loss: 4.3699 - val_accuracy: 0.2500\n",
      "Epoch 29/50\n",
      "25/25 [==============================] - 16s 655ms/step - loss: 0.2002 - accuracy: 0.9200 - val_loss: 3.9883 - val_accuracy: 0.1413\n",
      "Epoch 30/50\n",
      "25/25 [==============================] - 16s 646ms/step - loss: 0.2211 - accuracy: 0.9125 - val_loss: 6.4120 - val_accuracy: 0.1477\n",
      "Epoch 31/50\n",
      "25/25 [==============================] - 18s 705ms/step - loss: 0.1913 - accuracy: 0.9275 - val_loss: 2.4719 - val_accuracy: 0.1087\n",
      "Epoch 32/50\n",
      "25/25 [==============================] - 24s 947ms/step - loss: 0.1482 - accuracy: 0.9325 - val_loss: 5.4752 - val_accuracy: 0.1364\n",
      "Epoch 33/50\n",
      "25/25 [==============================] - 18s 737ms/step - loss: 0.1778 - accuracy: 0.9300 - val_loss: 3.9809 - val_accuracy: 0.1413\n",
      "Epoch 34/50\n",
      "25/25 [==============================] - 18s 706ms/step - loss: 0.1379 - accuracy: 0.9500 - val_loss: 3.8902 - val_accuracy: 0.1477\n",
      "Epoch 35/50\n",
      "25/25 [==============================] - 18s 700ms/step - loss: 0.2444 - accuracy: 0.9050 - val_loss: 2.9689 - val_accuracy: 0.1087\n",
      "Epoch 36/50\n",
      "25/25 [==============================] - 16s 658ms/step - loss: 0.1166 - accuracy: 0.9550 - val_loss: 3.0085 - val_accuracy: 0.1477\n",
      "Epoch 37/50\n",
      "25/25 [==============================] - 16s 658ms/step - loss: 0.2230 - accuracy: 0.9150 - val_loss: 2.9470 - val_accuracy: 0.1413\n",
      "Epoch 38/50\n",
      "25/25 [==============================] - 16s 640ms/step - loss: 0.1306 - accuracy: 0.9450 - val_loss: 8.6910 - val_accuracy: 0.1818\n",
      "Epoch 39/50\n",
      "25/25 [==============================] - 19s 779ms/step - loss: 0.1373 - accuracy: 0.9550 - val_loss: 5.0519 - val_accuracy: 0.0652\n",
      "Epoch 40/50\n",
      "25/25 [==============================] - 18s 702ms/step - loss: 0.1578 - accuracy: 0.9450 - val_loss: 4.3408 - val_accuracy: 0.1364\n",
      "Epoch 41/50\n",
      "25/25 [==============================] - 17s 679ms/step - loss: 0.1259 - accuracy: 0.9500 - val_loss: 4.5156 - val_accuracy: 0.0978\n",
      "Epoch 42/50\n",
      "25/25 [==============================] - 17s 672ms/step - loss: 0.1346 - accuracy: 0.9475 - val_loss: 4.3527 - val_accuracy: 0.1705\n",
      "Epoch 43/50\n",
      "25/25 [==============================] - 17s 677ms/step - loss: 0.1388 - accuracy: 0.9450 - val_loss: 7.0134 - val_accuracy: 0.0652\n",
      "Epoch 44/50\n",
      "25/25 [==============================] - 16s 659ms/step - loss: 0.0844 - accuracy: 0.9675 - val_loss: 5.5672 - val_accuracy: 0.2386\n",
      "Epoch 45/50\n",
      "25/25 [==============================] - 17s 689ms/step - loss: 0.1407 - accuracy: 0.9525 - val_loss: 5.0651 - val_accuracy: 0.2391\n",
      "Epoch 46/50\n",
      "25/25 [==============================] - 17s 690ms/step - loss: 0.1053 - accuracy: 0.9675 - val_loss: 4.6927 - val_accuracy: 0.2500\n",
      "Epoch 47/50\n",
      "25/25 [==============================] - 17s 667ms/step - loss: 0.0826 - accuracy: 0.9700 - val_loss: 5.4726 - val_accuracy: 0.0870\n",
      "Epoch 48/50\n",
      "25/25 [==============================] - 17s 682ms/step - loss: 0.1032 - accuracy: 0.9625 - val_loss: 9.6616 - val_accuracy: 0.2386\n",
      "Epoch 49/50\n",
      "25/25 [==============================] - 17s 682ms/step - loss: 0.1317 - accuracy: 0.9600 - val_loss: 4.5708 - val_accuracy: 0.0978\n",
      "Epoch 50/50\n",
      "25/25 [==============================] - 17s 663ms/step - loss: 0.0683 - accuracy: 0.9725 - val_loss: 5.3756 - val_accuracy: 0.1818\n"
     ]
    }
   ],
   "source": [
    "model.fit_generator(train_generator, \n",
    "    steps_per_epoch = nb_train_samples // batch_size, \n",
    "    epochs = epochs, validation_data = validation_generator, \n",
    "    validation_steps = nb_validation_samples // batch_size) \n",
    "  \n",
    "model.save_weights('weight_model_weights.h5')\n",
    "model.save('saved_model.h5')"
   ]
  },
  {
   "cell_type": "code",
   "execution_count": 14,
   "metadata": {},
   "outputs": [],
   "source": [
    "# acc = history.history['acc']\n",
    "# val_acc = history.history['val_acc']\n",
    "# loss = history.history['loss']\n",
    "# val_loss = history.history['val_loss']\n",
    "\n",
    "# epochs = range(1, len(acc) + 1)\n",
    "\n",
    "# #Train and validation accuracy\n",
    "# plt.plot(epochs, acc, 'b', label='Training accurarcy')\n",
    "# plt.plot(epochs, val_acc, 'r', label='Validation accurarcy')\n",
    "# plt.title('Training and Validation accurarcy')\n",
    "# plt.legend()\n",
    "\n",
    "# plt.figure()\n",
    "# #Train and validation loss\n",
    "# plt.plot(epochs, loss, 'b', label='Training loss')\n",
    "# plt.plot(epochs, val_loss, 'r', label='Validation loss')\n",
    "# plt.title('Training and Validation loss')\n",
    "# plt.legend()\n",
    "\n",
    "# plt.show()"
   ]
  },
  {
   "cell_type": "code",
   "execution_count": 26,
   "metadata": {},
   "outputs": [],
   "source": [
    "model.save_weights('weight_model_weights.hdf5')\n",
    "model.save('saved_model.hdf5')"
   ]
  },
  {
   "cell_type": "code",
   "execution_count": 31,
   "metadata": {},
   "outputs": [
    {
     "name": "stdout",
     "output_type": "stream",
     "text": [
      "Checking.ipynb  saved_model.hdf5  \u001b[0m\u001b[01;34mtrain\u001b[0m/          weight_model_weights.hdf5\r\n",
      "\u001b[01;34mReadme\u001b[0m/         \u001b[01;34mtest\u001b[0m/             Untitled.ipynb\r\n"
     ]
    }
   ],
   "source": [
    "ls"
   ]
  },
  {
   "cell_type": "code",
   "execution_count": 53,
   "metadata": {},
   "outputs": [
    {
     "name": "stdout",
     "output_type": "stream",
     "text": [
      "Defaulting to user installation because normal site-packages is not writeable\n",
      "Requirement already satisfied: scikit-image in /home/pcuser/.local/lib/python3.6/site-packages (0.16.2)\n",
      "Requirement already satisfied: pillow>=4.3.0 in /home/pcuser/.local/lib/python3.6/site-packages (from scikit-image) (6.2.1)\n",
      "Requirement already satisfied: PyWavelets>=0.4.0 in /home/pcuser/.local/lib/python3.6/site-packages (from scikit-image) (1.1.1)\n",
      "Requirement already satisfied: matplotlib!=3.0.0,>=2.0.0 in /home/pcuser/.local/lib/python3.6/site-packages (from scikit-image) (3.1.1)\n",
      "Requirement already satisfied: networkx>=2.0 in /home/pcuser/.local/lib/python3.6/site-packages (from scikit-image) (2.3)\n",
      "Requirement already satisfied: imageio>=2.3.0 in /home/pcuser/.local/lib/python3.6/site-packages (from scikit-image) (2.8.0)\n",
      "Requirement already satisfied: scipy>=0.19.0 in /home/pcuser/.local/lib/python3.6/site-packages (from scikit-image) (1.4.1)\n",
      "Requirement already satisfied: numpy>=1.13.3 in /home/pcuser/.local/lib/python3.6/site-packages (from PyWavelets>=0.4.0->scikit-image) (1.17.2)\n",
      "Requirement already satisfied: cycler>=0.10 in /home/pcuser/.local/lib/python3.6/site-packages (from matplotlib!=3.0.0,>=2.0.0->scikit-image) (0.10.0)\n",
      "Requirement already satisfied: pyparsing!=2.0.4,!=2.1.2,!=2.1.6,>=2.0.1 in /home/pcuser/.local/lib/python3.6/site-packages (from matplotlib!=3.0.0,>=2.0.0->scikit-image) (2.4.2)\n",
      "Requirement already satisfied: kiwisolver>=1.0.1 in /home/pcuser/.local/lib/python3.6/site-packages (from matplotlib!=3.0.0,>=2.0.0->scikit-image) (1.1.0)\n",
      "Requirement already satisfied: python-dateutil>=2.1 in /usr/lib/python3/dist-packages (from matplotlib!=3.0.0,>=2.0.0->scikit-image) (2.6.1)\n",
      "Requirement already satisfied: decorator>=4.3.0 in /home/pcuser/.local/lib/python3.6/site-packages (from networkx>=2.0->scikit-image) (4.4.0)\n",
      "Requirement already satisfied: six in /home/pcuser/.local/lib/python3.6/site-packages (from cycler>=0.10->matplotlib!=3.0.0,>=2.0.0->scikit-image) (1.12.0)\n",
      "Requirement already satisfied: setuptools in /home/pcuser/.local/lib/python3.6/site-packages (from kiwisolver>=1.0.1->matplotlib!=3.0.0,>=2.0.0->scikit-image) (41.4.0)\n"
     ]
    },
    {
     "data": {
      "text/plain": [
       "array([[0.81039965]], dtype=float32)"
      ]
     },
     "execution_count": 53,
     "metadata": {},
     "output_type": "execute_result"
    }
   ],
   "source": [
    "from PIL import Image\n",
    "import numpy as np\n",
    "!pip install scikit-image\n",
    "from skimage import transform\n",
    "def load(filename):\n",
    "   np_image = Image.open(filename)\n",
    "   np_image = np.array(np_image).astype('float32')/255\n",
    "   np_image = transform.resize(np_image, (224, 224, 3))\n",
    "   np_image = np.expand_dims(np_image, axis=0)\n",
    "   return np_image\n",
    "\n",
    "image = load('test.png')\n",
    "model.predict(image)"
   ]
  },
  {
   "cell_type": "code",
   "execution_count": 54,
   "metadata": {},
   "outputs": [],
   "source": [
    "# from keras.preprocessing import image\n",
    "# img = image.load_img(path=\"/home/pcuser/Downloads/Task/db task/sample_Signature/test/forged/NFI-01301017.png\",grayscale=True,target_size=(28,28,1))\n",
    "# img = image.img_to_array(img)\n",
    "# test_img = img.reshape([-1,720, 1280,1])\n",
    "# img_class = model.predict_classes(test_img)"
   ]
  },
  {
   "cell_type": "code",
   "execution_count": 55,
   "metadata": {},
   "outputs": [],
   "source": [
    "# from keras.models import load_model\n",
    "\n",
    "# import cv2\n",
    "\n",
    "# import numpy as np\n",
    "\n",
    "# model = load_model('/home/pcuser/Downloads/Task/db task/sample_Signature/saved_model.hdf5')\n",
    "# print(model)\n",
    "\n",
    "# model.compile(loss='binary_crossentropy',\n",
    "\n",
    "#               optimizer='rmsprop',\n",
    "\n",
    "#               metrics=['accuracy'])\n",
    "\n",
    "# img = cv2.imread('test.jpg')\n",
    "\n",
    "# img = cv2.resize(img,(224,224))\n",
    "\n",
    "# img = np.reshape(img,[1,320,240,3])\n",
    "\n",
    "# classes = model.predict_classes(img)\n",
    "\n",
    "# print(classes)"
   ]
  },
  {
   "cell_type": "code",
   "execution_count": 56,
   "metadata": {},
   "outputs": [],
   "source": [
    "# img_width, img_height = 224,224\n",
    "\n",
    "# # load the model we saved\n",
    "# loaded_model = load_model('saved_model.hdf5')\n",
    "\n",
    "# # Get test image ready\n",
    "# # test_image = image.load_img('/home/pcuser/Downloads/Task/db task/sample_Signature/train/genuine/NFI-00101001.png', target_size=(img_width, img_height))\n",
    "# test_img = cv2.imread('test.jpg')\n",
    "# test_image = image.img_to_array(test_image)\n",
    "# test_image = np.expand_dims(test_image, axis=0)\n",
    "\n",
    "# test_image = test_image.reshape(img_width, img_height*3)    # Ambiguity!\n",
    "# # Should this instead be: test_image.reshape(img_width, img_height, 3) ??\n",
    "# result = model.predict(test_image, batch_size=1)\n",
    "# print(result)"
   ]
  },
  {
   "cell_type": "code",
   "execution_count": null,
   "metadata": {},
   "outputs": [],
   "source": []
  }
 ],
 "metadata": {
  "kernelspec": {
   "display_name": "Python 3",
   "language": "python",
   "name": "python3"
  },
  "language_info": {
   "codemirror_mode": {
    "name": "ipython",
    "version": 3
   },
   "file_extension": ".py",
   "mimetype": "text/x-python",
   "name": "python",
   "nbconvert_exporter": "python",
   "pygments_lexer": "ipython3",
   "version": "3.6.9"
  }
 },
 "nbformat": 4,
 "nbformat_minor": 2
}
