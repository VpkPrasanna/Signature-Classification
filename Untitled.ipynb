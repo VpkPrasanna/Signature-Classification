{
 "cells": [
  {
   "cell_type": "code",
   "execution_count": 65,
   "metadata": {},
   "outputs": [],
   "source": [
    "from keras.preprocessing.image import ImageDataGenerator \n",
    "from keras.models import Sequential,load_model\n",
    "from keras.layers import Conv2D, MaxPooling2D \n",
    "from keras.layers import Activation, Dropout, Flatten, Dense \n",
    "from keras import backend as K "
   ]
  },
  {
   "cell_type": "code",
   "execution_count": 3,
   "metadata": {},
   "outputs": [
    {
     "name": "stdout",
     "output_type": "stream",
     "text": [
      "/home/pcuser/Downloads/Task/db task/sample_Signature/train\n"
     ]
    }
   ],
   "source": [
    "cd train"
   ]
  },
  {
   "cell_type": "code",
   "execution_count": 54,
   "metadata": {},
   "outputs": [],
   "source": [
    "\n",
    "train_data_dir = '/home/pcuser/Downloads/Task/db task/sample_Signature/train'\n",
    "validation_data_dir = '/home/pcuser/Downloads/Task/db task/sample_Signature/test'\n",
    "nb_train_samples =400 \n",
    "nb_validation_samples = 100\n",
    "epochs = 50\n",
    "batch_size = 16\n"
   ]
  },
  {
   "cell_type": "code",
   "execution_count": 55,
   "metadata": {},
   "outputs": [
    {
     "data": {
      "text/plain": [
       "'/home/pcuser/Downloads/Task/db task/sample_Signature/train'"
      ]
     },
     "execution_count": 55,
     "metadata": {},
     "output_type": "execute_result"
    }
   ],
   "source": [
    "train_data_dir"
   ]
  },
  {
   "cell_type": "code",
   "execution_count": 56,
   "metadata": {},
   "outputs": [],
   "source": [
    "img_width, img_height = 224, 224\n",
    "if K.image_data_format() == 'channels_first': \n",
    "    input_shape = (3, img_width, img_height) \n",
    "else: \n",
    "    input_shape = (img_width, img_height, 3) \n"
   ]
  },
  {
   "cell_type": "code",
   "execution_count": 57,
   "metadata": {},
   "outputs": [],
   "source": [
    "model = Sequential() \n",
    "model.add(Conv2D(32, (2, 2), input_shape = input_shape)) \n",
    "model.add(Activation('relu')) \n",
    "model.add(MaxPooling2D(pool_size =(2, 2))) \n",
    "  \n",
    "model.add(Conv2D(32, (2, 2))) \n",
    "model.add(Activation('relu')) \n",
    "model.add(MaxPooling2D(pool_size =(2, 2))) \n",
    "  \n",
    "model.add(Conv2D(64, (2, 2))) \n",
    "model.add(Activation('relu')) \n",
    "model.add(MaxPooling2D(pool_size =(2, 2))) \n",
    "  \n",
    "model.add(Flatten()) \n",
    "model.add(Dense(64)) \n",
    "model.add(Activation('relu')) \n",
    "model.add(Dropout(0.5)) \n",
    "model.add(Dense(1)) \n",
    "model.add(Activation('sigmoid')) "
   ]
  },
  {
   "cell_type": "code",
   "execution_count": 58,
   "metadata": {},
   "outputs": [],
   "source": [
    "model.compile(loss ='binary_crossentropy', \n",
    "                     optimizer ='rmsprop', \n",
    "                   metrics =['accuracy']) "
   ]
  },
  {
   "cell_type": "code",
   "execution_count": 59,
   "metadata": {},
   "outputs": [],
   "source": [
    "train_datagen = ImageDataGenerator( \n",
    "                rescale = 1. / 255, \n",
    "                 shear_range = 0.2, \n",
    "                  zoom_range = 0.2, \n",
    "            horizontal_flip = True) "
   ]
  },
  {
   "cell_type": "code",
   "execution_count": 60,
   "metadata": {},
   "outputs": [],
   "source": [
    "test_datagen = ImageDataGenerator(rescale = 1. / 255) "
   ]
  },
  {
   "cell_type": "code",
   "execution_count": 61,
   "metadata": {},
   "outputs": [
    {
     "name": "stdout",
     "output_type": "stream",
     "text": [
      "Found 240 images belonging to 2 classes.\n"
     ]
    }
   ],
   "source": [
    "train_generator = train_datagen.flow_from_directory(train_data_dir, \n",
    "                              target_size =(img_width, img_height), \n",
    "                     batch_size = batch_size, class_mode ='binary') "
   ]
  },
  {
   "cell_type": "code",
   "execution_count": 62,
   "metadata": {},
   "outputs": [
    {
     "name": "stdout",
     "output_type": "stream",
     "text": [
      "Found 60 images belonging to 2 classes.\n"
     ]
    }
   ],
   "source": [
    "validation_generator = test_datagen.flow_from_directory( \n",
    "                                    validation_data_dir, \n",
    "                   target_size =(img_width, img_height), \n",
    "          batch_size = batch_size, class_mode ='binary') "
   ]
  },
  {
   "cell_type": "code",
   "execution_count": 63,
   "metadata": {},
   "outputs": [
    {
     "name": "stdout",
     "output_type": "stream",
     "text": [
      "Epoch 1/50\n",
      "25/25 [==============================] - 17s 681ms/step - loss: 2.0352 - accuracy: 0.4950 - val_loss: 0.6931 - val_accuracy: 0.4783\n",
      "Epoch 2/50\n",
      "25/25 [==============================] - 15s 618ms/step - loss: 0.6932 - accuracy: 0.5100 - val_loss: 0.6932 - val_accuracy: 0.5114\n",
      "Epoch 3/50\n",
      "25/25 [==============================] - 16s 640ms/step - loss: 0.6932 - accuracy: 0.4725 - val_loss: 0.6933 - val_accuracy: 0.5109\n",
      "Epoch 4/50\n",
      "25/25 [==============================] - 16s 649ms/step - loss: 0.7194 - accuracy: 0.5500 - val_loss: 0.7969 - val_accuracy: 0.5227\n",
      "Epoch 5/50\n",
      "25/25 [==============================] - 17s 671ms/step - loss: 0.7223 - accuracy: 0.5275 - val_loss: 0.7850 - val_accuracy: 0.4674\n",
      "Epoch 6/50\n",
      "25/25 [==============================] - 16s 644ms/step - loss: 0.6868 - accuracy: 0.5525 - val_loss: 0.7610 - val_accuracy: 0.0114\n",
      "Epoch 7/50\n",
      "25/25 [==============================] - 16s 658ms/step - loss: 0.6861 - accuracy: 0.5675 - val_loss: 0.7553 - val_accuracy: 0.1957\n",
      "Epoch 8/50\n",
      "25/25 [==============================] - 16s 653ms/step - loss: 0.6818 - accuracy: 0.5700 - val_loss: 0.8989 - val_accuracy: 0.2955\n",
      "Epoch 9/50\n",
      "25/25 [==============================] - 19s 780ms/step - loss: 0.6634 - accuracy: 0.5725 - val_loss: 0.7628 - val_accuracy: 0.2935\n",
      "Epoch 10/50\n",
      "25/25 [==============================] - 18s 709ms/step - loss: 0.6619 - accuracy: 0.5875 - val_loss: 0.8191 - val_accuracy: 0.3636\n",
      "Epoch 11/50\n",
      "25/25 [==============================] - 18s 737ms/step - loss: 0.6509 - accuracy: 0.6100 - val_loss: 0.8607 - val_accuracy: 0.1196\n",
      "Epoch 12/50\n",
      "25/25 [==============================] - 18s 729ms/step - loss: 0.6286 - accuracy: 0.6625 - val_loss: 0.9671 - val_accuracy: 0.0341\n",
      "Epoch 13/50\n",
      "25/25 [==============================] - 19s 762ms/step - loss: 0.5958 - accuracy: 0.6925 - val_loss: 1.4514 - val_accuracy: 0.2717\n",
      "Epoch 14/50\n",
      "25/25 [==============================] - 17s 683ms/step - loss: 0.5961 - accuracy: 0.7050 - val_loss: 1.4926 - val_accuracy: 0.0000e+00\n",
      "Epoch 15/50\n",
      "25/25 [==============================] - 19s 741ms/step - loss: 0.5939 - accuracy: 0.7175 - val_loss: 0.9629 - val_accuracy: 0.0870\n",
      "Epoch 16/50\n",
      "25/25 [==============================] - 20s 786ms/step - loss: 0.5711 - accuracy: 0.6800 - val_loss: 0.9636 - val_accuracy: 0.2841\n",
      "Epoch 17/50\n",
      "25/25 [==============================] - 18s 737ms/step - loss: 0.5068 - accuracy: 0.7475 - val_loss: 1.8451 - val_accuracy: 0.0435\n",
      "Epoch 18/50\n",
      "25/25 [==============================] - 17s 665ms/step - loss: 0.5090 - accuracy: 0.7525 - val_loss: 1.4291 - val_accuracy: 0.0682\n",
      "Epoch 19/50\n",
      "25/25 [==============================] - 18s 704ms/step - loss: 0.5225 - accuracy: 0.7500 - val_loss: 0.8940 - val_accuracy: 0.1087\n",
      "Epoch 20/50\n",
      "25/25 [==============================] - 18s 734ms/step - loss: 0.4665 - accuracy: 0.8050 - val_loss: 1.0679 - val_accuracy: 0.1932\n",
      "Epoch 21/50\n",
      "25/25 [==============================] - 20s 787ms/step - loss: 0.4364 - accuracy: 0.8050 - val_loss: 2.0931 - val_accuracy: 0.1957\n",
      "Epoch 22/50\n",
      "25/25 [==============================] - 19s 765ms/step - loss: 0.4395 - accuracy: 0.8200 - val_loss: 1.5354 - val_accuracy: 0.2955\n",
      "Epoch 23/50\n",
      "25/25 [==============================] - 19s 761ms/step - loss: 0.4184 - accuracy: 0.8225 - val_loss: 1.2436 - val_accuracy: 0.2500\n",
      "Epoch 24/50\n",
      "25/25 [==============================] - 18s 730ms/step - loss: 0.3850 - accuracy: 0.8325 - val_loss: 2.5396 - val_accuracy: 0.1705\n",
      "Epoch 25/50\n",
      "25/25 [==============================] - 19s 759ms/step - loss: 0.4132 - accuracy: 0.8325 - val_loss: 2.4216 - val_accuracy: 0.1848\n",
      "Epoch 26/50\n",
      "25/25 [==============================] - 18s 706ms/step - loss: 0.3515 - accuracy: 0.8450 - val_loss: 2.9506 - val_accuracy: 0.1818\n",
      "Epoch 27/50\n",
      "25/25 [==============================] - 19s 744ms/step - loss: 0.3538 - accuracy: 0.8375 - val_loss: 2.9012 - val_accuracy: 0.0978\n",
      "Epoch 28/50\n",
      "25/25 [==============================] - 18s 713ms/step - loss: 0.3200 - accuracy: 0.8550 - val_loss: 1.9522 - val_accuracy: 0.2386\n",
      "Epoch 29/50\n",
      "25/25 [==============================] - 18s 736ms/step - loss: 0.2992 - accuracy: 0.8725 - val_loss: 2.7241 - val_accuracy: 0.2609\n",
      "Epoch 30/50\n",
      "25/25 [==============================] - 17s 697ms/step - loss: 0.2811 - accuracy: 0.8650 - val_loss: 3.4627 - val_accuracy: 0.2386\n",
      "Epoch 31/50\n",
      "25/25 [==============================] - 20s 784ms/step - loss: 0.2752 - accuracy: 0.9075 - val_loss: 2.8066 - val_accuracy: 0.2935\n",
      "Epoch 32/50\n",
      "25/25 [==============================] - 18s 723ms/step - loss: 0.3161 - accuracy: 0.8725 - val_loss: 2.1202 - val_accuracy: 0.1932\n",
      "Epoch 33/50\n",
      "25/25 [==============================] - 17s 684ms/step - loss: 0.2821 - accuracy: 0.8775 - val_loss: 1.6210 - val_accuracy: 0.2717\n",
      "Epoch 34/50\n",
      "25/25 [==============================] - 19s 777ms/step - loss: 0.2788 - accuracy: 0.8825 - val_loss: 2.7384 - val_accuracy: 0.1818\n",
      "Epoch 35/50\n",
      "25/25 [==============================] - 19s 773ms/step - loss: 0.2704 - accuracy: 0.8900 - val_loss: 2.5007 - val_accuracy: 0.2935\n",
      "Epoch 36/50\n",
      "25/25 [==============================] - 17s 679ms/step - loss: 0.2418 - accuracy: 0.8950 - val_loss: 3.9854 - val_accuracy: 0.2159\n",
      "Epoch 37/50\n",
      "25/25 [==============================] - 19s 779ms/step - loss: 0.2373 - accuracy: 0.8975 - val_loss: 1.9245 - val_accuracy: 0.3043\n",
      "Epoch 38/50\n",
      "25/25 [==============================] - 17s 663ms/step - loss: 0.2665 - accuracy: 0.9100 - val_loss: 1.3328 - val_accuracy: 0.2386\n",
      "Epoch 39/50\n",
      "25/25 [==============================] - 17s 675ms/step - loss: 0.2623 - accuracy: 0.8925 - val_loss: 2.3929 - val_accuracy: 0.2717\n",
      "Epoch 40/50\n",
      "25/25 [==============================] - 17s 666ms/step - loss: 0.2304 - accuracy: 0.8950 - val_loss: 4.3081 - val_accuracy: 0.2500\n",
      "Epoch 41/50\n",
      "25/25 [==============================] - 17s 679ms/step - loss: 0.2345 - accuracy: 0.9150 - val_loss: 5.4499 - val_accuracy: 0.1522\n",
      "Epoch 42/50\n",
      "25/25 [==============================] - 16s 658ms/step - loss: 0.1970 - accuracy: 0.9250 - val_loss: 3.6789 - val_accuracy: 0.2500\n",
      "Epoch 43/50\n",
      "25/25 [==============================] - 17s 663ms/step - loss: 0.1908 - accuracy: 0.9225 - val_loss: 4.1103 - val_accuracy: 0.2717\n",
      "Epoch 44/50\n",
      "25/25 [==============================] - 17s 669ms/step - loss: 0.2248 - accuracy: 0.9100 - val_loss: 4.2844 - val_accuracy: 0.2159\n",
      "Epoch 45/50\n",
      "25/25 [==============================] - 17s 663ms/step - loss: 0.2603 - accuracy: 0.9000 - val_loss: 4.0012 - val_accuracy: 0.1848\n",
      "Epoch 46/50\n",
      "25/25 [==============================] - 16s 649ms/step - loss: 0.2593 - accuracy: 0.9125 - val_loss: 4.0441 - val_accuracy: 0.1932\n",
      "Epoch 47/50\n",
      "25/25 [==============================] - 17s 673ms/step - loss: 0.2054 - accuracy: 0.9000 - val_loss: 3.5822 - val_accuracy: 0.1739\n",
      "Epoch 48/50\n",
      "25/25 [==============================] - 17s 671ms/step - loss: 0.2383 - accuracy: 0.9175 - val_loss: 2.3938 - val_accuracy: 0.1705\n",
      "Epoch 49/50\n",
      "25/25 [==============================] - 18s 707ms/step - loss: 0.2051 - accuracy: 0.9375 - val_loss: 6.4701 - val_accuracy: 0.1522\n",
      "Epoch 50/50\n",
      "25/25 [==============================] - 17s 685ms/step - loss: 0.2235 - accuracy: 0.9225 - val_loss: 4.9536 - val_accuracy: 0.2727\n"
     ]
    }
   ],
   "source": [
    "model.fit_generator(train_generator, \n",
    "    steps_per_epoch = nb_train_samples // batch_size, \n",
    "    epochs = epochs, validation_data = validation_generator, \n",
    "    validation_steps = nb_validation_samples // batch_size) \n",
    "  \n",
    "model.save_weights('model_saved.h5') "
   ]
  },
  {
   "cell_type": "code",
   "execution_count": 66,
   "metadata": {},
   "outputs": [
    {
     "ename": "ValueError",
     "evalue": "Cannot create group in read-only mode.",
     "output_type": "error",
     "traceback": [
      "\u001b[0;31m---------------------------------------------------------------------------\u001b[0m",
      "\u001b[0;31mValueError\u001b[0m                                Traceback (most recent call last)",
      "\u001b[0;32m<ipython-input-66-1bf05176f3e5>\u001b[0m in \u001b[0;36m<module>\u001b[0;34m\u001b[0m\n\u001b[0;32m----> 1\u001b[0;31m \u001b[0mload_model\u001b[0m \u001b[0;34m=\u001b[0m \u001b[0mload_model\u001b[0m\u001b[0;34m(\u001b[0m\u001b[0;34m'model_saved.h5'\u001b[0m\u001b[0;34m)\u001b[0m\u001b[0;34m\u001b[0m\u001b[0;34m\u001b[0m\u001b[0m\n\u001b[0m\u001b[1;32m      2\u001b[0m \u001b[0mprint\u001b[0m\u001b[0;34m(\u001b[0m\u001b[0mload_model\u001b[0m\u001b[0;34m)\u001b[0m\u001b[0;34m\u001b[0m\u001b[0;34m\u001b[0m\u001b[0m\n",
      "\u001b[0;32m~/.local/lib/python3.6/site-packages/keras/engine/saving.py\u001b[0m in \u001b[0;36mload_wrapper\u001b[0;34m(*args, **kwargs)\u001b[0m\n\u001b[1;32m    490\u001b[0m                 \u001b[0mos\u001b[0m\u001b[0;34m.\u001b[0m\u001b[0mremove\u001b[0m\u001b[0;34m(\u001b[0m\u001b[0mtmp_filepath\u001b[0m\u001b[0;34m)\u001b[0m\u001b[0;34m\u001b[0m\u001b[0;34m\u001b[0m\u001b[0m\n\u001b[1;32m    491\u001b[0m             \u001b[0;32mreturn\u001b[0m \u001b[0mres\u001b[0m\u001b[0;34m\u001b[0m\u001b[0;34m\u001b[0m\u001b[0m\n\u001b[0;32m--> 492\u001b[0;31m         \u001b[0;32mreturn\u001b[0m \u001b[0mload_function\u001b[0m\u001b[0;34m(\u001b[0m\u001b[0;34m*\u001b[0m\u001b[0margs\u001b[0m\u001b[0;34m,\u001b[0m \u001b[0;34m**\u001b[0m\u001b[0mkwargs\u001b[0m\u001b[0;34m)\u001b[0m\u001b[0;34m\u001b[0m\u001b[0;34m\u001b[0m\u001b[0m\n\u001b[0m\u001b[1;32m    493\u001b[0m \u001b[0;34m\u001b[0m\u001b[0m\n\u001b[1;32m    494\u001b[0m     \u001b[0;32mreturn\u001b[0m \u001b[0mload_wrapper\u001b[0m\u001b[0;34m\u001b[0m\u001b[0;34m\u001b[0m\u001b[0m\n",
      "\u001b[0;32m~/.local/lib/python3.6/site-packages/keras/engine/saving.py\u001b[0m in \u001b[0;36mload_model\u001b[0;34m(filepath, custom_objects, compile)\u001b[0m\n\u001b[1;32m    582\u001b[0m     \u001b[0;32mif\u001b[0m \u001b[0mH5Dict\u001b[0m\u001b[0;34m.\u001b[0m\u001b[0mis_supported_type\u001b[0m\u001b[0;34m(\u001b[0m\u001b[0mfilepath\u001b[0m\u001b[0;34m)\u001b[0m\u001b[0;34m:\u001b[0m\u001b[0;34m\u001b[0m\u001b[0;34m\u001b[0m\u001b[0m\n\u001b[1;32m    583\u001b[0m         \u001b[0;32mwith\u001b[0m \u001b[0mH5Dict\u001b[0m\u001b[0;34m(\u001b[0m\u001b[0mfilepath\u001b[0m\u001b[0;34m,\u001b[0m \u001b[0mmode\u001b[0m\u001b[0;34m=\u001b[0m\u001b[0;34m'r'\u001b[0m\u001b[0;34m)\u001b[0m \u001b[0;32mas\u001b[0m \u001b[0mh5dict\u001b[0m\u001b[0;34m:\u001b[0m\u001b[0;34m\u001b[0m\u001b[0;34m\u001b[0m\u001b[0m\n\u001b[0;32m--> 584\u001b[0;31m             \u001b[0mmodel\u001b[0m \u001b[0;34m=\u001b[0m \u001b[0m_deserialize_model\u001b[0m\u001b[0;34m(\u001b[0m\u001b[0mh5dict\u001b[0m\u001b[0;34m,\u001b[0m \u001b[0mcustom_objects\u001b[0m\u001b[0;34m,\u001b[0m \u001b[0mcompile\u001b[0m\u001b[0;34m)\u001b[0m\u001b[0;34m\u001b[0m\u001b[0;34m\u001b[0m\u001b[0m\n\u001b[0m\u001b[1;32m    585\u001b[0m     \u001b[0;32melif\u001b[0m \u001b[0mhasattr\u001b[0m\u001b[0;34m(\u001b[0m\u001b[0mfilepath\u001b[0m\u001b[0;34m,\u001b[0m \u001b[0;34m'write'\u001b[0m\u001b[0;34m)\u001b[0m \u001b[0;32mand\u001b[0m \u001b[0mcallable\u001b[0m\u001b[0;34m(\u001b[0m\u001b[0mfilepath\u001b[0m\u001b[0;34m.\u001b[0m\u001b[0mwrite\u001b[0m\u001b[0;34m)\u001b[0m\u001b[0;34m:\u001b[0m\u001b[0;34m\u001b[0m\u001b[0;34m\u001b[0m\u001b[0m\n\u001b[1;32m    586\u001b[0m         \u001b[0;32mdef\u001b[0m \u001b[0mload_function\u001b[0m\u001b[0;34m(\u001b[0m\u001b[0mh5file\u001b[0m\u001b[0;34m)\u001b[0m\u001b[0;34m:\u001b[0m\u001b[0;34m\u001b[0m\u001b[0;34m\u001b[0m\u001b[0m\n",
      "\u001b[0;32m~/.local/lib/python3.6/site-packages/keras/engine/saving.py\u001b[0m in \u001b[0;36m_deserialize_model\u001b[0;34m(h5dict, custom_objects, compile)\u001b[0m\n\u001b[1;32m    268\u001b[0m         \u001b[0;32mreturn\u001b[0m \u001b[0mobj\u001b[0m\u001b[0;34m\u001b[0m\u001b[0;34m\u001b[0m\u001b[0m\n\u001b[1;32m    269\u001b[0m \u001b[0;34m\u001b[0m\u001b[0m\n\u001b[0;32m--> 270\u001b[0;31m     \u001b[0mmodel_config\u001b[0m \u001b[0;34m=\u001b[0m \u001b[0mh5dict\u001b[0m\u001b[0;34m[\u001b[0m\u001b[0;34m'model_config'\u001b[0m\u001b[0;34m]\u001b[0m\u001b[0;34m\u001b[0m\u001b[0;34m\u001b[0m\u001b[0m\n\u001b[0m\u001b[1;32m    271\u001b[0m     \u001b[0;32mif\u001b[0m \u001b[0mmodel_config\u001b[0m \u001b[0;32mis\u001b[0m \u001b[0;32mNone\u001b[0m\u001b[0;34m:\u001b[0m\u001b[0;34m\u001b[0m\u001b[0;34m\u001b[0m\u001b[0m\n\u001b[1;32m    272\u001b[0m         \u001b[0;32mraise\u001b[0m \u001b[0mValueError\u001b[0m\u001b[0;34m(\u001b[0m\u001b[0;34m'No model found in config.'\u001b[0m\u001b[0;34m)\u001b[0m\u001b[0;34m\u001b[0m\u001b[0;34m\u001b[0m\u001b[0m\n",
      "\u001b[0;32m~/.local/lib/python3.6/site-packages/keras/utils/io_utils.py\u001b[0m in \u001b[0;36m__getitem__\u001b[0;34m(self, attr)\u001b[0m\n\u001b[1;32m    316\u001b[0m             \u001b[0;32melse\u001b[0m\u001b[0;34m:\u001b[0m\u001b[0;34m\u001b[0m\u001b[0;34m\u001b[0m\u001b[0m\n\u001b[1;32m    317\u001b[0m                 \u001b[0;32mif\u001b[0m \u001b[0mself\u001b[0m\u001b[0;34m.\u001b[0m\u001b[0mread_only\u001b[0m\u001b[0;34m:\u001b[0m\u001b[0;34m\u001b[0m\u001b[0;34m\u001b[0m\u001b[0m\n\u001b[0;32m--> 318\u001b[0;31m                     \u001b[0;32mraise\u001b[0m \u001b[0mValueError\u001b[0m\u001b[0;34m(\u001b[0m\u001b[0;34m'Cannot create group in read-only mode.'\u001b[0m\u001b[0;34m)\u001b[0m\u001b[0;34m\u001b[0m\u001b[0;34m\u001b[0m\u001b[0m\n\u001b[0m\u001b[1;32m    319\u001b[0m                 \u001b[0mval\u001b[0m \u001b[0;34m=\u001b[0m \u001b[0mH5Dict\u001b[0m\u001b[0;34m(\u001b[0m\u001b[0mself\u001b[0m\u001b[0;34m.\u001b[0m\u001b[0mdata\u001b[0m\u001b[0;34m.\u001b[0m\u001b[0mcreate_group\u001b[0m\u001b[0;34m(\u001b[0m\u001b[0mattr\u001b[0m\u001b[0;34m)\u001b[0m\u001b[0;34m)\u001b[0m\u001b[0;34m\u001b[0m\u001b[0;34m\u001b[0m\u001b[0m\n\u001b[1;32m    320\u001b[0m         \u001b[0;32mreturn\u001b[0m \u001b[0mval\u001b[0m\u001b[0;34m\u001b[0m\u001b[0;34m\u001b[0m\u001b[0m\n",
      "\u001b[0;31mValueError\u001b[0m: Cannot create group in read-only mode."
     ]
    }
   ],
   "source": [
    "model.predict()"
   ]
  },
  {
   "cell_type": "code",
   "execution_count": null,
   "metadata": {},
   "outputs": [],
   "source": []
  }
 ],
 "metadata": {
  "kernelspec": {
   "display_name": "Python 3",
   "language": "python",
   "name": "python3"
  },
  "language_info": {
   "codemirror_mode": {
    "name": "ipython",
    "version": 3
   },
   "file_extension": ".py",
   "mimetype": "text/x-python",
   "name": "python",
   "nbconvert_exporter": "python",
   "pygments_lexer": "ipython3",
   "version": "3.6.9"
  }
 },
 "nbformat": 4,
 "nbformat_minor": 2
}
